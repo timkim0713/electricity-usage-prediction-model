{
  "nbformat": 4,
  "nbformat_minor": 0,
  "metadata": {
    "colab": {
      "name": "cse351_hw2_kim_daekyung_110887867.ipynb",
      "provenance": [],
      "collapsed_sections": []
    },
    "kernelspec": {
      "name": "python3",
      "display_name": "Python 3"
    },
    "language_info": {
      "name": "python"
    }
  },
  "cells": [
    {
      "cell_type": "code",
      "execution_count": 135,
      "metadata": {
        "id": "Sc79cJ8ozrVC"
      },
      "outputs": [],
      "source": [
        "from sklearn.model_selection import train_test_split\n",
        "from sklearn.linear_model import LogisticRegression\n",
        "from sklearn.linear_model import LinearRegression\n",
        "from sklearn.metrics import mean_squared_error\n",
        "from sklearn.metrics import f1_score\n",
        "import matplotlib.pyplot as plt\n",
        "import seaborn as sns\n",
        "import pandas as pd\n",
        "import numpy as np\n"
      ]
    },
    {
      "cell_type": "code",
      "source": [
        "# Data Load\n",
        "\n",
        "# load the given data from the url below\n",
        "energy_data = 'https://raw.githubusercontent.com/timkim0713/electricity-usage-prediction-model/master/energy_data.csv'\n",
        "weather_data = 'https://raw.githubusercontent.com/timkim0713/electricity-usage-prediction-model/master/weather_data.csv'\n"
      ],
      "metadata": {
        "id": "olWLYymSz2a-"
      },
      "execution_count": 136,
      "outputs": []
    },
    {
      "cell_type": "markdown",
      "source": [
        "# PART I: A. ENERGY DATA PROCESSING\n",
        "- Drop unnecessary data & change the time inteverval to \"per day\" and add up 48 sub-divided \"use [kW]\"\" data into one day.\n",
        "\n",
        "- use only 'date & time' & 'use [kW]' columns from energy data. \n",
        "---\n",
        "- Observed Missing Data Found by counting the number of data given per day\n",
        "- Missing Data Observed at --> **2014-03-09 02:00:00 & 2014-03-09 02:30:00**\n",
        "- Filled Above '[use kW]' Missing Data for above with linear interpolation\n",
        "\n",
        "\n",
        "---\n",
        "\n",
        "\n",
        "- Observed Duplicate Data of Time/Date Label at **2014-11-02 01:00:00, 01:30:00**\n",
        "- Dropped 2 data at 2014-11-02 01:00:00, 2014-11-02 01:30:00"
      ],
      "metadata": {
        "id": "fXXPFBcVLpIR"
      }
    },
    {
      "cell_type": "code",
      "source": [
        "# ENERGY DATA PROCESSING\n",
        "# Drop unnecessary data & change the time inteverval to \"per day\" and add up 48 sub-divided \"use [kW]\"\" data into one day.\n",
        "\n",
        "# Read data\n",
        "df_e = pd.read_csv(energy_data)\n",
        "\n",
        "# use only 'date & time' & 'use [kW]' columns from energy data. \n",
        "df_e_filtered =df_e[['Date & Time','use [kW]']]\n",
        "\n",
        "#Observed Missing Data Found by counting the number of data given per day\n",
        "#Missing Data --> 2014-03-09 02:00:00, 2014-03-09 02:30:00\n",
        "#print(df_e_filtered[3218:3221])\n",
        "\n",
        "# Add Missing Data \n",
        "df_e_filtered.loc[3219.5] = '2014-03-09 02:00:00', None\n",
        "df_e_filtered.loc[3219.6] = '2014-03-09 02:30:00', None\n",
        "# Sort Index from 0\n",
        "df_e_filtered = df_e_filtered.sort_index().reset_index(drop=True)\n",
        "# Used Linear Interpolation to Fill Missing Data we set above (2014-03-09 02:00:00, 2014-03-09 02:30:00) \n",
        "df_e_filtered['use [kW]'].interpolate(method = 'linear', inplace = True)\n",
        "print(\"Added Missing Data Value at 2014-03-09 02:00:00, 2014-03-09 02:30:00 using Linear Interpolation with values as below\")\n",
        "\n",
        "# check below\n",
        "print(df_e_filtered[3220:3222], '\\n')\n",
        "\n",
        "\n",
        "# Rename Date & Time column to date\n",
        "df_e_filtered['date']=df_e_filtered['Date & Time']\n",
        "\n",
        "\n",
        "#Observed 2014-11-02 01:00:00, 01:30:00  DUPLICATE DATA!\n",
        "print(\"Observed Duplicate Data of Time/Date Label at 2014-11-02 01:00:00, 01:30:00\")\n",
        "\n",
        "print(\"Data Size BEFORE duplicate: \",df_e_filtered['date'].size)\n",
        "df_e_filtered = df_e_filtered.drop_duplicates(subset=['date'])\n",
        "print(\"Data Size AFTER duplicate: \",df_e_filtered['date'].size)\n",
        "print(\"Dropped 2 data at 2014-11-02 01:00:00, 2014-11-02 01:30:00\\n\")\n",
        "\n",
        "# reset index from 0 for dropped indicies\n",
        "df_e_filtered.reset_index(drop=True, inplace=True)\n",
        "\n",
        "\n",
        "df_e_filtered['date'] = pd.to_datetime(df_e_filtered['Date & Time'],  format='%Y-%m-%d')\n",
        "# # 48 is the number we use to calculate \"per day\" from given time interval, \n",
        "# #thus data results in size of 365 after dividing up the data by 48.\n",
        "d = {'date': 'first', 'use [kW]': 'sum'}\n",
        "df_e_processed = df_e_filtered.groupby(df_e_filtered.index // 48).agg(d)\n",
        "\n",
        "df_e_processed.head()"
      ],
      "metadata": {
        "colab": {
          "base_uri": "https://localhost:8080/",
          "height": 486
        },
        "id": "WF00fI2HPYUm",
        "outputId": "4e350248-c20c-45de-a321-08d8b6708f88"
      },
      "execution_count": 137,
      "outputs": [
        {
          "output_type": "stream",
          "name": "stdout",
          "text": [
            "Added Missing Data Value at 2014-03-09 02:00:00, 2014-03-09 02:30:00 using Linear Interpolation with values as below\n",
            "              Date & Time  use [kW]\n",
            "3220  2014-03-09 02:00:00  0.263443\n",
            "3221  2014-03-09 02:30:00  0.227414 \n",
            "\n",
            "Observed Duplicate Data of Time/Date Label at 2014-11-02 01:00:00, 01:30:00\n",
            "Data Size BEFORE duplicate:  17522\n",
            "Data Size AFTER duplicate:  17520\n",
            "Dropped 2 data at 2014-11-02 01:00:00, 2014-11-02 01:30:00\n",
            "\n"
          ]
        },
        {
          "output_type": "stream",
          "name": "stderr",
          "text": [
            "/usr/local/lib/python3.7/dist-packages/pandas/core/indexing.py:723: SettingWithCopyWarning: \n",
            "A value is trying to be set on a copy of a slice from a DataFrame\n",
            "\n",
            "See the caveats in the documentation: https://pandas.pydata.org/pandas-docs/stable/user_guide/indexing.html#returning-a-view-versus-a-copy\n",
            "  iloc._setitem_with_indexer(indexer, value, self.name)\n"
          ]
        },
        {
          "output_type": "execute_result",
          "data": {
            "text/plain": [
              "        date   use [kW]\n",
              "0 2014-01-01  65.013592\n",
              "1 2014-01-02  32.305336\n",
              "2 2014-01-03  31.164468\n",
              "3 2014-01-04  45.287782\n",
              "4 2014-01-05  36.316643"
            ],
            "text/html": [
              "\n",
              "  <div id=\"df-c1d3b1f7-0c41-4a35-9fd1-e2d8ce526f84\">\n",
              "    <div class=\"colab-df-container\">\n",
              "      <div>\n",
              "<style scoped>\n",
              "    .dataframe tbody tr th:only-of-type {\n",
              "        vertical-align: middle;\n",
              "    }\n",
              "\n",
              "    .dataframe tbody tr th {\n",
              "        vertical-align: top;\n",
              "    }\n",
              "\n",
              "    .dataframe thead th {\n",
              "        text-align: right;\n",
              "    }\n",
              "</style>\n",
              "<table border=\"1\" class=\"dataframe\">\n",
              "  <thead>\n",
              "    <tr style=\"text-align: right;\">\n",
              "      <th></th>\n",
              "      <th>date</th>\n",
              "      <th>use [kW]</th>\n",
              "    </tr>\n",
              "  </thead>\n",
              "  <tbody>\n",
              "    <tr>\n",
              "      <th>0</th>\n",
              "      <td>2014-01-01</td>\n",
              "      <td>65.013592</td>\n",
              "    </tr>\n",
              "    <tr>\n",
              "      <th>1</th>\n",
              "      <td>2014-01-02</td>\n",
              "      <td>32.305336</td>\n",
              "    </tr>\n",
              "    <tr>\n",
              "      <th>2</th>\n",
              "      <td>2014-01-03</td>\n",
              "      <td>31.164468</td>\n",
              "    </tr>\n",
              "    <tr>\n",
              "      <th>3</th>\n",
              "      <td>2014-01-04</td>\n",
              "      <td>45.287782</td>\n",
              "    </tr>\n",
              "    <tr>\n",
              "      <th>4</th>\n",
              "      <td>2014-01-05</td>\n",
              "      <td>36.316643</td>\n",
              "    </tr>\n",
              "  </tbody>\n",
              "</table>\n",
              "</div>\n",
              "      <button class=\"colab-df-convert\" onclick=\"convertToInteractive('df-c1d3b1f7-0c41-4a35-9fd1-e2d8ce526f84')\"\n",
              "              title=\"Convert this dataframe to an interactive table.\"\n",
              "              style=\"display:none;\">\n",
              "        \n",
              "  <svg xmlns=\"http://www.w3.org/2000/svg\" height=\"24px\"viewBox=\"0 0 24 24\"\n",
              "       width=\"24px\">\n",
              "    <path d=\"M0 0h24v24H0V0z\" fill=\"none\"/>\n",
              "    <path d=\"M18.56 5.44l.94 2.06.94-2.06 2.06-.94-2.06-.94-.94-2.06-.94 2.06-2.06.94zm-11 1L8.5 8.5l.94-2.06 2.06-.94-2.06-.94L8.5 2.5l-.94 2.06-2.06.94zm10 10l.94 2.06.94-2.06 2.06-.94-2.06-.94-.94-2.06-.94 2.06-2.06.94z\"/><path d=\"M17.41 7.96l-1.37-1.37c-.4-.4-.92-.59-1.43-.59-.52 0-1.04.2-1.43.59L10.3 9.45l-7.72 7.72c-.78.78-.78 2.05 0 2.83L4 21.41c.39.39.9.59 1.41.59.51 0 1.02-.2 1.41-.59l7.78-7.78 2.81-2.81c.8-.78.8-2.07 0-2.86zM5.41 20L4 18.59l7.72-7.72 1.47 1.35L5.41 20z\"/>\n",
              "  </svg>\n",
              "      </button>\n",
              "      \n",
              "  <style>\n",
              "    .colab-df-container {\n",
              "      display:flex;\n",
              "      flex-wrap:wrap;\n",
              "      gap: 12px;\n",
              "    }\n",
              "\n",
              "    .colab-df-convert {\n",
              "      background-color: #E8F0FE;\n",
              "      border: none;\n",
              "      border-radius: 50%;\n",
              "      cursor: pointer;\n",
              "      display: none;\n",
              "      fill: #1967D2;\n",
              "      height: 32px;\n",
              "      padding: 0 0 0 0;\n",
              "      width: 32px;\n",
              "    }\n",
              "\n",
              "    .colab-df-convert:hover {\n",
              "      background-color: #E2EBFA;\n",
              "      box-shadow: 0px 1px 2px rgba(60, 64, 67, 0.3), 0px 1px 3px 1px rgba(60, 64, 67, 0.15);\n",
              "      fill: #174EA6;\n",
              "    }\n",
              "\n",
              "    [theme=dark] .colab-df-convert {\n",
              "      background-color: #3B4455;\n",
              "      fill: #D2E3FC;\n",
              "    }\n",
              "\n",
              "    [theme=dark] .colab-df-convert:hover {\n",
              "      background-color: #434B5C;\n",
              "      box-shadow: 0px 1px 3px 1px rgba(0, 0, 0, 0.15);\n",
              "      filter: drop-shadow(0px 1px 2px rgba(0, 0, 0, 0.3));\n",
              "      fill: #FFFFFF;\n",
              "    }\n",
              "  </style>\n",
              "\n",
              "      <script>\n",
              "        const buttonEl =\n",
              "          document.querySelector('#df-c1d3b1f7-0c41-4a35-9fd1-e2d8ce526f84 button.colab-df-convert');\n",
              "        buttonEl.style.display =\n",
              "          google.colab.kernel.accessAllowed ? 'block' : 'none';\n",
              "\n",
              "        async function convertToInteractive(key) {\n",
              "          const element = document.querySelector('#df-c1d3b1f7-0c41-4a35-9fd1-e2d8ce526f84');\n",
              "          const dataTable =\n",
              "            await google.colab.kernel.invokeFunction('convertToInteractive',\n",
              "                                                     [key], {});\n",
              "          if (!dataTable) return;\n",
              "\n",
              "          const docLinkHtml = 'Like what you see? Visit the ' +\n",
              "            '<a target=\"_blank\" href=https://colab.research.google.com/notebooks/data_table.ipynb>data table notebook</a>'\n",
              "            + ' to learn more about interactive tables.';\n",
              "          element.innerHTML = '';\n",
              "          dataTable['output_type'] = 'display_data';\n",
              "          await google.colab.output.renderOutput(dataTable, element);\n",
              "          const docLink = document.createElement('div');\n",
              "          docLink.innerHTML = docLinkHtml;\n",
              "          element.appendChild(docLink);\n",
              "        }\n",
              "      </script>\n",
              "    </div>\n",
              "  </div>\n",
              "  "
            ]
          },
          "metadata": {},
          "execution_count": 137
        }
      ]
    },
    {
      "cell_type": "markdown",
      "source": [
        "# PART I: B. WEATHER DATA PROCESSING\n",
        "- Changed time format to match energy data's date/time & changed with unit 's'\n",
        "- Checked for null data in weather & **Observed 1470 null data in cloudCover **\n",
        "- Handled above with linear interpolation to fill up the data\n",
        "--- \n",
        "- Mapped the time interval into one day, using average for all the numerical data, mode for string values.\n",
        "- The interval is divided into 24 to change into one day interval. \n",
        "\n"
      ],
      "metadata": {
        "id": "5aVuBkwrMfQS"
      }
    },
    {
      "cell_type": "code",
      "source": [
        "# WEATHER DATA PROCESSING\n",
        "df_w = pd.read_csv(weather_data)\n",
        "# format given time to match energy date/time & change unit\n",
        "df_w['date'] = pd.to_datetime(df_w['time'],unit='s')\n",
        "\n",
        "# check for null data in weather, observe 1470 null in cloudCover\n",
        "print(df_w.isnull().sum())\n",
        "print(\"Observed 1470 null cloudCover data rows.\\n-----------------------------------------------\")\n",
        "print(\"Handling the null data with linear interpolation\")\n",
        "# Using linear regression interpolation to fill the empty data.\n",
        "df_w['cloudCover'].interpolate(method = 'linear', inplace = True)\n",
        "print(df_w.isnull().sum())\n",
        "print(\"Done.\")\n",
        "\n",
        "# Mapping of average of \"per day\" interval with average for the all the numerical data, mode for string values, \n",
        "# & time is set into day interval (chosen with first index every 24 data).\n",
        "d = {'date': 'first', 'temperature':'mean', 'icon':lambda x:x.value_counts().index[0], 'humidity':'mean', 'visibility':'mean',\n",
        "     'summary':lambda x:x.value_counts().index[0], 'pressure':'mean', 'windSpeed':'mean','cloudCover':'mean', 'windBearing':'mean', 'precipIntensity':'mean','dewPoint':'mean',\n",
        "     'precipProbability':'mean'}\n",
        "\n",
        "\n",
        "df_w_processed = df_w.groupby(df_w.index // 24).agg(d)\n",
        "df_w_processed.head()\n",
        "\n"
      ],
      "metadata": {
        "colab": {
          "base_uri": "https://localhost:8080/",
          "height": 947
        },
        "id": "yqeudr2t0ZUW",
        "outputId": "221de965-c1fb-4438-c5fe-080a1fa0fc04"
      },
      "execution_count": 138,
      "outputs": [
        {
          "output_type": "stream",
          "name": "stdout",
          "text": [
            "temperature             0\n",
            "icon                    0\n",
            "humidity                0\n",
            "visibility              0\n",
            "summary                 0\n",
            "pressure                0\n",
            "windSpeed               0\n",
            "cloudCover           1470\n",
            "time                    0\n",
            "windBearing             0\n",
            "precipIntensity         0\n",
            "dewPoint                0\n",
            "precipProbability       0\n",
            "date                    0\n",
            "dtype: int64\n",
            "Observed 1470 null cloudCover data rows.\n",
            "-----------------------------------------------\n",
            "Handling the null data with linear interpolation\n",
            "temperature          0\n",
            "icon                 0\n",
            "humidity             0\n",
            "visibility           0\n",
            "summary              0\n",
            "pressure             0\n",
            "windSpeed            0\n",
            "cloudCover           0\n",
            "time                 0\n",
            "windBearing          0\n",
            "precipIntensity      0\n",
            "dewPoint             0\n",
            "precipProbability    0\n",
            "date                 0\n",
            "dtype: int64\n",
            "Done.\n"
          ]
        },
        {
          "output_type": "execute_result",
          "data": {
            "text/plain": [
              "        date  temperature         icon  humidity  visibility     summary  \\\n",
              "0 2014-01-01    20.110833  clear-night  0.556667    9.970000       Clear   \n",
              "1 2014-01-02    16.382500         snow  0.784583    3.834583  Light Snow   \n",
              "2 2014-01-03     6.256667         snow  0.680833    4.509167  Light Snow   \n",
              "3 2014-01-04     2.711667  clear-night  0.617083    9.822917       Clear   \n",
              "4 2014-01-05    17.654167  clear-night  0.682083    9.134583       Clear   \n",
              "\n",
              "      pressure  windSpeed  cloudCover  windBearing  precipIntensity  \\\n",
              "0  1025.395000   6.820417    0.030000   252.291667         0.000000   \n",
              "1  1023.465833   7.433750    0.757917    53.458333         0.002004   \n",
              "2  1014.428750  12.828333    0.585417   207.333333         0.002029   \n",
              "3  1030.096250   5.248333    0.001667   240.166667         0.000000   \n",
              "4  1025.275000   3.417083    0.072083   208.958333         0.000033   \n",
              "\n",
              "    dewPoint  precipProbability  \n",
              "0   6.362083           0.000000  \n",
              "1  10.737083           0.074583  \n",
              "2  -2.337500           0.080000  \n",
              "3  -8.352083           0.000000  \n",
              "4   8.615000           0.000417  "
            ],
            "text/html": [
              "\n",
              "  <div id=\"df-f70d500c-8636-4c2f-ac2a-61da545e6333\">\n",
              "    <div class=\"colab-df-container\">\n",
              "      <div>\n",
              "<style scoped>\n",
              "    .dataframe tbody tr th:only-of-type {\n",
              "        vertical-align: middle;\n",
              "    }\n",
              "\n",
              "    .dataframe tbody tr th {\n",
              "        vertical-align: top;\n",
              "    }\n",
              "\n",
              "    .dataframe thead th {\n",
              "        text-align: right;\n",
              "    }\n",
              "</style>\n",
              "<table border=\"1\" class=\"dataframe\">\n",
              "  <thead>\n",
              "    <tr style=\"text-align: right;\">\n",
              "      <th></th>\n",
              "      <th>date</th>\n",
              "      <th>temperature</th>\n",
              "      <th>icon</th>\n",
              "      <th>humidity</th>\n",
              "      <th>visibility</th>\n",
              "      <th>summary</th>\n",
              "      <th>pressure</th>\n",
              "      <th>windSpeed</th>\n",
              "      <th>cloudCover</th>\n",
              "      <th>windBearing</th>\n",
              "      <th>precipIntensity</th>\n",
              "      <th>dewPoint</th>\n",
              "      <th>precipProbability</th>\n",
              "    </tr>\n",
              "  </thead>\n",
              "  <tbody>\n",
              "    <tr>\n",
              "      <th>0</th>\n",
              "      <td>2014-01-01</td>\n",
              "      <td>20.110833</td>\n",
              "      <td>clear-night</td>\n",
              "      <td>0.556667</td>\n",
              "      <td>9.970000</td>\n",
              "      <td>Clear</td>\n",
              "      <td>1025.395000</td>\n",
              "      <td>6.820417</td>\n",
              "      <td>0.030000</td>\n",
              "      <td>252.291667</td>\n",
              "      <td>0.000000</td>\n",
              "      <td>6.362083</td>\n",
              "      <td>0.000000</td>\n",
              "    </tr>\n",
              "    <tr>\n",
              "      <th>1</th>\n",
              "      <td>2014-01-02</td>\n",
              "      <td>16.382500</td>\n",
              "      <td>snow</td>\n",
              "      <td>0.784583</td>\n",
              "      <td>3.834583</td>\n",
              "      <td>Light Snow</td>\n",
              "      <td>1023.465833</td>\n",
              "      <td>7.433750</td>\n",
              "      <td>0.757917</td>\n",
              "      <td>53.458333</td>\n",
              "      <td>0.002004</td>\n",
              "      <td>10.737083</td>\n",
              "      <td>0.074583</td>\n",
              "    </tr>\n",
              "    <tr>\n",
              "      <th>2</th>\n",
              "      <td>2014-01-03</td>\n",
              "      <td>6.256667</td>\n",
              "      <td>snow</td>\n",
              "      <td>0.680833</td>\n",
              "      <td>4.509167</td>\n",
              "      <td>Light Snow</td>\n",
              "      <td>1014.428750</td>\n",
              "      <td>12.828333</td>\n",
              "      <td>0.585417</td>\n",
              "      <td>207.333333</td>\n",
              "      <td>0.002029</td>\n",
              "      <td>-2.337500</td>\n",
              "      <td>0.080000</td>\n",
              "    </tr>\n",
              "    <tr>\n",
              "      <th>3</th>\n",
              "      <td>2014-01-04</td>\n",
              "      <td>2.711667</td>\n",
              "      <td>clear-night</td>\n",
              "      <td>0.617083</td>\n",
              "      <td>9.822917</td>\n",
              "      <td>Clear</td>\n",
              "      <td>1030.096250</td>\n",
              "      <td>5.248333</td>\n",
              "      <td>0.001667</td>\n",
              "      <td>240.166667</td>\n",
              "      <td>0.000000</td>\n",
              "      <td>-8.352083</td>\n",
              "      <td>0.000000</td>\n",
              "    </tr>\n",
              "    <tr>\n",
              "      <th>4</th>\n",
              "      <td>2014-01-05</td>\n",
              "      <td>17.654167</td>\n",
              "      <td>clear-night</td>\n",
              "      <td>0.682083</td>\n",
              "      <td>9.134583</td>\n",
              "      <td>Clear</td>\n",
              "      <td>1025.275000</td>\n",
              "      <td>3.417083</td>\n",
              "      <td>0.072083</td>\n",
              "      <td>208.958333</td>\n",
              "      <td>0.000033</td>\n",
              "      <td>8.615000</td>\n",
              "      <td>0.000417</td>\n",
              "    </tr>\n",
              "  </tbody>\n",
              "</table>\n",
              "</div>\n",
              "      <button class=\"colab-df-convert\" onclick=\"convertToInteractive('df-f70d500c-8636-4c2f-ac2a-61da545e6333')\"\n",
              "              title=\"Convert this dataframe to an interactive table.\"\n",
              "              style=\"display:none;\">\n",
              "        \n",
              "  <svg xmlns=\"http://www.w3.org/2000/svg\" height=\"24px\"viewBox=\"0 0 24 24\"\n",
              "       width=\"24px\">\n",
              "    <path d=\"M0 0h24v24H0V0z\" fill=\"none\"/>\n",
              "    <path d=\"M18.56 5.44l.94 2.06.94-2.06 2.06-.94-2.06-.94-.94-2.06-.94 2.06-2.06.94zm-11 1L8.5 8.5l.94-2.06 2.06-.94-2.06-.94L8.5 2.5l-.94 2.06-2.06.94zm10 10l.94 2.06.94-2.06 2.06-.94-2.06-.94-.94-2.06-.94 2.06-2.06.94z\"/><path d=\"M17.41 7.96l-1.37-1.37c-.4-.4-.92-.59-1.43-.59-.52 0-1.04.2-1.43.59L10.3 9.45l-7.72 7.72c-.78.78-.78 2.05 0 2.83L4 21.41c.39.39.9.59 1.41.59.51 0 1.02-.2 1.41-.59l7.78-7.78 2.81-2.81c.8-.78.8-2.07 0-2.86zM5.41 20L4 18.59l7.72-7.72 1.47 1.35L5.41 20z\"/>\n",
              "  </svg>\n",
              "      </button>\n",
              "      \n",
              "  <style>\n",
              "    .colab-df-container {\n",
              "      display:flex;\n",
              "      flex-wrap:wrap;\n",
              "      gap: 12px;\n",
              "    }\n",
              "\n",
              "    .colab-df-convert {\n",
              "      background-color: #E8F0FE;\n",
              "      border: none;\n",
              "      border-radius: 50%;\n",
              "      cursor: pointer;\n",
              "      display: none;\n",
              "      fill: #1967D2;\n",
              "      height: 32px;\n",
              "      padding: 0 0 0 0;\n",
              "      width: 32px;\n",
              "    }\n",
              "\n",
              "    .colab-df-convert:hover {\n",
              "      background-color: #E2EBFA;\n",
              "      box-shadow: 0px 1px 2px rgba(60, 64, 67, 0.3), 0px 1px 3px 1px rgba(60, 64, 67, 0.15);\n",
              "      fill: #174EA6;\n",
              "    }\n",
              "\n",
              "    [theme=dark] .colab-df-convert {\n",
              "      background-color: #3B4455;\n",
              "      fill: #D2E3FC;\n",
              "    }\n",
              "\n",
              "    [theme=dark] .colab-df-convert:hover {\n",
              "      background-color: #434B5C;\n",
              "      box-shadow: 0px 1px 3px 1px rgba(0, 0, 0, 0.15);\n",
              "      filter: drop-shadow(0px 1px 2px rgba(0, 0, 0, 0.3));\n",
              "      fill: #FFFFFF;\n",
              "    }\n",
              "  </style>\n",
              "\n",
              "      <script>\n",
              "        const buttonEl =\n",
              "          document.querySelector('#df-f70d500c-8636-4c2f-ac2a-61da545e6333 button.colab-df-convert');\n",
              "        buttonEl.style.display =\n",
              "          google.colab.kernel.accessAllowed ? 'block' : 'none';\n",
              "\n",
              "        async function convertToInteractive(key) {\n",
              "          const element = document.querySelector('#df-f70d500c-8636-4c2f-ac2a-61da545e6333');\n",
              "          const dataTable =\n",
              "            await google.colab.kernel.invokeFunction('convertToInteractive',\n",
              "                                                     [key], {});\n",
              "          if (!dataTable) return;\n",
              "\n",
              "          const docLinkHtml = 'Like what you see? Visit the ' +\n",
              "            '<a target=\"_blank\" href=https://colab.research.google.com/notebooks/data_table.ipynb>data table notebook</a>'\n",
              "            + ' to learn more about interactive tables.';\n",
              "          element.innerHTML = '';\n",
              "          dataTable['output_type'] = 'display_data';\n",
              "          await google.colab.output.renderOutput(dataTable, element);\n",
              "          const docLink = document.createElement('div');\n",
              "          docLink.innerHTML = docLinkHtml;\n",
              "          element.appendChild(docLink);\n",
              "        }\n",
              "      </script>\n",
              "    </div>\n",
              "  </div>\n",
              "  "
            ]
          },
          "metadata": {},
          "execution_count": 138
        }
      ]
    },
    {
      "cell_type": "markdown",
      "source": [
        "# PART I: C. Merge Energy Data into Weather Data\n",
        "\n",
        "- Checked the shape of merged data: 365x14\n"
      ],
      "metadata": {
        "id": "6UUnp5H3NeRX"
      }
    },
    {
      "cell_type": "code",
      "source": [
        "# Merge Energy Data into Weather Data\n",
        "\n",
        "# Merge Energy into Weather\n",
        "df = df_w_processed.merge(df_e_processed)\n",
        "# df = pd.concat([df_w_processed, df_e_processed] )\n",
        "\n",
        "# reorder columns\n",
        "columns_titles = ['date', 'use [kW]', 'temperature', 'icon', 'summary', 'visibility', 'humidity', 'pressure', 'windSpeed', 'cloudCover', 'windBearing','dewPoint','precipIntensity', 'precipProbability']\n",
        "merged_df = df.reindex(columns=columns_titles)\n",
        "print(\"Size of Data: \",merged_df.shape)\n",
        "merged_df.head()"
      ],
      "metadata": {
        "colab": {
          "base_uri": "https://localhost:8080/",
          "height": 391
        },
        "id": "faE5eSskP8uh",
        "outputId": "61dd4985-ecbc-429a-bc59-45dc4a790bdb"
      },
      "execution_count": 139,
      "outputs": [
        {
          "output_type": "stream",
          "name": "stdout",
          "text": [
            "Size of Data:  (365, 14)\n"
          ]
        },
        {
          "output_type": "execute_result",
          "data": {
            "text/plain": [
              "        date   use [kW]  temperature         icon     summary  visibility  \\\n",
              "0 2014-01-01  65.013592    20.110833  clear-night       Clear    9.970000   \n",
              "1 2014-01-02  32.305336    16.382500         snow  Light Snow    3.834583   \n",
              "2 2014-01-03  31.164468     6.256667         snow  Light Snow    4.509167   \n",
              "3 2014-01-04  45.287782     2.711667  clear-night       Clear    9.822917   \n",
              "4 2014-01-05  36.316643    17.654167  clear-night       Clear    9.134583   \n",
              "\n",
              "   humidity     pressure  windSpeed  cloudCover  windBearing   dewPoint  \\\n",
              "0  0.556667  1025.395000   6.820417    0.030000   252.291667   6.362083   \n",
              "1  0.784583  1023.465833   7.433750    0.757917    53.458333  10.737083   \n",
              "2  0.680833  1014.428750  12.828333    0.585417   207.333333  -2.337500   \n",
              "3  0.617083  1030.096250   5.248333    0.001667   240.166667  -8.352083   \n",
              "4  0.682083  1025.275000   3.417083    0.072083   208.958333   8.615000   \n",
              "\n",
              "   precipIntensity  precipProbability  \n",
              "0         0.000000           0.000000  \n",
              "1         0.002004           0.074583  \n",
              "2         0.002029           0.080000  \n",
              "3         0.000000           0.000000  \n",
              "4         0.000033           0.000417  "
            ],
            "text/html": [
              "\n",
              "  <div id=\"df-f064637a-f470-4943-919b-b5fdbe4b4454\">\n",
              "    <div class=\"colab-df-container\">\n",
              "      <div>\n",
              "<style scoped>\n",
              "    .dataframe tbody tr th:only-of-type {\n",
              "        vertical-align: middle;\n",
              "    }\n",
              "\n",
              "    .dataframe tbody tr th {\n",
              "        vertical-align: top;\n",
              "    }\n",
              "\n",
              "    .dataframe thead th {\n",
              "        text-align: right;\n",
              "    }\n",
              "</style>\n",
              "<table border=\"1\" class=\"dataframe\">\n",
              "  <thead>\n",
              "    <tr style=\"text-align: right;\">\n",
              "      <th></th>\n",
              "      <th>date</th>\n",
              "      <th>use [kW]</th>\n",
              "      <th>temperature</th>\n",
              "      <th>icon</th>\n",
              "      <th>summary</th>\n",
              "      <th>visibility</th>\n",
              "      <th>humidity</th>\n",
              "      <th>pressure</th>\n",
              "      <th>windSpeed</th>\n",
              "      <th>cloudCover</th>\n",
              "      <th>windBearing</th>\n",
              "      <th>dewPoint</th>\n",
              "      <th>precipIntensity</th>\n",
              "      <th>precipProbability</th>\n",
              "    </tr>\n",
              "  </thead>\n",
              "  <tbody>\n",
              "    <tr>\n",
              "      <th>0</th>\n",
              "      <td>2014-01-01</td>\n",
              "      <td>65.013592</td>\n",
              "      <td>20.110833</td>\n",
              "      <td>clear-night</td>\n",
              "      <td>Clear</td>\n",
              "      <td>9.970000</td>\n",
              "      <td>0.556667</td>\n",
              "      <td>1025.395000</td>\n",
              "      <td>6.820417</td>\n",
              "      <td>0.030000</td>\n",
              "      <td>252.291667</td>\n",
              "      <td>6.362083</td>\n",
              "      <td>0.000000</td>\n",
              "      <td>0.000000</td>\n",
              "    </tr>\n",
              "    <tr>\n",
              "      <th>1</th>\n",
              "      <td>2014-01-02</td>\n",
              "      <td>32.305336</td>\n",
              "      <td>16.382500</td>\n",
              "      <td>snow</td>\n",
              "      <td>Light Snow</td>\n",
              "      <td>3.834583</td>\n",
              "      <td>0.784583</td>\n",
              "      <td>1023.465833</td>\n",
              "      <td>7.433750</td>\n",
              "      <td>0.757917</td>\n",
              "      <td>53.458333</td>\n",
              "      <td>10.737083</td>\n",
              "      <td>0.002004</td>\n",
              "      <td>0.074583</td>\n",
              "    </tr>\n",
              "    <tr>\n",
              "      <th>2</th>\n",
              "      <td>2014-01-03</td>\n",
              "      <td>31.164468</td>\n",
              "      <td>6.256667</td>\n",
              "      <td>snow</td>\n",
              "      <td>Light Snow</td>\n",
              "      <td>4.509167</td>\n",
              "      <td>0.680833</td>\n",
              "      <td>1014.428750</td>\n",
              "      <td>12.828333</td>\n",
              "      <td>0.585417</td>\n",
              "      <td>207.333333</td>\n",
              "      <td>-2.337500</td>\n",
              "      <td>0.002029</td>\n",
              "      <td>0.080000</td>\n",
              "    </tr>\n",
              "    <tr>\n",
              "      <th>3</th>\n",
              "      <td>2014-01-04</td>\n",
              "      <td>45.287782</td>\n",
              "      <td>2.711667</td>\n",
              "      <td>clear-night</td>\n",
              "      <td>Clear</td>\n",
              "      <td>9.822917</td>\n",
              "      <td>0.617083</td>\n",
              "      <td>1030.096250</td>\n",
              "      <td>5.248333</td>\n",
              "      <td>0.001667</td>\n",
              "      <td>240.166667</td>\n",
              "      <td>-8.352083</td>\n",
              "      <td>0.000000</td>\n",
              "      <td>0.000000</td>\n",
              "    </tr>\n",
              "    <tr>\n",
              "      <th>4</th>\n",
              "      <td>2014-01-05</td>\n",
              "      <td>36.316643</td>\n",
              "      <td>17.654167</td>\n",
              "      <td>clear-night</td>\n",
              "      <td>Clear</td>\n",
              "      <td>9.134583</td>\n",
              "      <td>0.682083</td>\n",
              "      <td>1025.275000</td>\n",
              "      <td>3.417083</td>\n",
              "      <td>0.072083</td>\n",
              "      <td>208.958333</td>\n",
              "      <td>8.615000</td>\n",
              "      <td>0.000033</td>\n",
              "      <td>0.000417</td>\n",
              "    </tr>\n",
              "  </tbody>\n",
              "</table>\n",
              "</div>\n",
              "      <button class=\"colab-df-convert\" onclick=\"convertToInteractive('df-f064637a-f470-4943-919b-b5fdbe4b4454')\"\n",
              "              title=\"Convert this dataframe to an interactive table.\"\n",
              "              style=\"display:none;\">\n",
              "        \n",
              "  <svg xmlns=\"http://www.w3.org/2000/svg\" height=\"24px\"viewBox=\"0 0 24 24\"\n",
              "       width=\"24px\">\n",
              "    <path d=\"M0 0h24v24H0V0z\" fill=\"none\"/>\n",
              "    <path d=\"M18.56 5.44l.94 2.06.94-2.06 2.06-.94-2.06-.94-.94-2.06-.94 2.06-2.06.94zm-11 1L8.5 8.5l.94-2.06 2.06-.94-2.06-.94L8.5 2.5l-.94 2.06-2.06.94zm10 10l.94 2.06.94-2.06 2.06-.94-2.06-.94-.94-2.06-.94 2.06-2.06.94z\"/><path d=\"M17.41 7.96l-1.37-1.37c-.4-.4-.92-.59-1.43-.59-.52 0-1.04.2-1.43.59L10.3 9.45l-7.72 7.72c-.78.78-.78 2.05 0 2.83L4 21.41c.39.39.9.59 1.41.59.51 0 1.02-.2 1.41-.59l7.78-7.78 2.81-2.81c.8-.78.8-2.07 0-2.86zM5.41 20L4 18.59l7.72-7.72 1.47 1.35L5.41 20z\"/>\n",
              "  </svg>\n",
              "      </button>\n",
              "      \n",
              "  <style>\n",
              "    .colab-df-container {\n",
              "      display:flex;\n",
              "      flex-wrap:wrap;\n",
              "      gap: 12px;\n",
              "    }\n",
              "\n",
              "    .colab-df-convert {\n",
              "      background-color: #E8F0FE;\n",
              "      border: none;\n",
              "      border-radius: 50%;\n",
              "      cursor: pointer;\n",
              "      display: none;\n",
              "      fill: #1967D2;\n",
              "      height: 32px;\n",
              "      padding: 0 0 0 0;\n",
              "      width: 32px;\n",
              "    }\n",
              "\n",
              "    .colab-df-convert:hover {\n",
              "      background-color: #E2EBFA;\n",
              "      box-shadow: 0px 1px 2px rgba(60, 64, 67, 0.3), 0px 1px 3px 1px rgba(60, 64, 67, 0.15);\n",
              "      fill: #174EA6;\n",
              "    }\n",
              "\n",
              "    [theme=dark] .colab-df-convert {\n",
              "      background-color: #3B4455;\n",
              "      fill: #D2E3FC;\n",
              "    }\n",
              "\n",
              "    [theme=dark] .colab-df-convert:hover {\n",
              "      background-color: #434B5C;\n",
              "      box-shadow: 0px 1px 3px 1px rgba(0, 0, 0, 0.15);\n",
              "      filter: drop-shadow(0px 1px 2px rgba(0, 0, 0, 0.3));\n",
              "      fill: #FFFFFF;\n",
              "    }\n",
              "  </style>\n",
              "\n",
              "      <script>\n",
              "        const buttonEl =\n",
              "          document.querySelector('#df-f064637a-f470-4943-919b-b5fdbe4b4454 button.colab-df-convert');\n",
              "        buttonEl.style.display =\n",
              "          google.colab.kernel.accessAllowed ? 'block' : 'none';\n",
              "\n",
              "        async function convertToInteractive(key) {\n",
              "          const element = document.querySelector('#df-f064637a-f470-4943-919b-b5fdbe4b4454');\n",
              "          const dataTable =\n",
              "            await google.colab.kernel.invokeFunction('convertToInteractive',\n",
              "                                                     [key], {});\n",
              "          if (!dataTable) return;\n",
              "\n",
              "          const docLinkHtml = 'Like what you see? Visit the ' +\n",
              "            '<a target=\"_blank\" href=https://colab.research.google.com/notebooks/data_table.ipynb>data table notebook</a>'\n",
              "            + ' to learn more about interactive tables.';\n",
              "          element.innerHTML = '';\n",
              "          dataTable['output_type'] = 'display_data';\n",
              "          await google.colab.output.renderOutput(dataTable, element);\n",
              "          const docLink = document.createElement('div');\n",
              "          docLink.innerHTML = docLinkHtml;\n",
              "          element.appendChild(docLink);\n",
              "        }\n",
              "      </script>\n",
              "    </div>\n",
              "  </div>\n",
              "  "
            ]
          },
          "metadata": {},
          "execution_count": 139
        }
      ]
    },
    {
      "cell_type": "markdown",
      "source": [
        "# **PART II: Training/Test Dataset**\n",
        "Goal is on predicting each day of December, so Jan - Nov data are split into training/test dataset with 8:2 ratio.\n",
        "---\n",
        "- Jan - Nov Training/Test Score:  0.2666596060081261\n",
        "- Model Score on December:  -0.5972748944608137\n",
        "- Root Mean Squared Error on December Evaluation:  8.968926005862448\n",
        "- Exported CSV with 2 columns: date, predicted use [kW]\n"
      ],
      "metadata": {
        "id": "fuPzvrF4pZa2"
      }
    },
    {
      "cell_type": "code",
      "source": [
        "# Goal is on predicting each day of December, so split Jan - Nov data are split into training/test dataset with 8:2 raito.\n",
        "# 0 - 333 is Jan - Nov, otherwise December\n",
        "X = merged_df.drop(\"icon\",axis=1)\n",
        "X = X.drop(\"summary\", axis=1)\n",
        "X = X.drop(\"date\",axis=1)\n",
        "X = X.drop(\"use [kW]\",axis=1)\n",
        "\n",
        "X= X[:334] \n",
        "y = merged_df['use [kW]'][:334]\n",
        "\n",
        "december_original_df = merged_df[334:]\n",
        "\n",
        "december_df = merged_df[334:]\n",
        "december_df = december_df.drop('icon', axis=1)\n",
        "december_df = december_df.drop(\"summary\", axis=1)\n",
        "december_df = december_df.drop(\"date\",axis=1)\n",
        "december_df = december_df.drop(\"use [kW]\",axis=1)\n",
        "\n",
        "# # Splitting the data into training and testing data\n",
        "X_train, X_test, y_train, y_test = train_test_split(X, y, test_size = 0.2, random_state=200)\n",
        "  \n",
        "# drop use [kW] column in test dataset\n",
        "# test = test.drop('use [kW]', 1)"
      ],
      "metadata": {
        "id": "In_Y1bCApdu4"
      },
      "execution_count": 140,
      "outputs": []
    },
    {
      "cell_type": "markdown",
      "source": [
        "# PART III: Linear Regression - Predicting Energy Usage\n",
        "\n",
        "How well/badly does the model work? (Evaluate the correctness of\n",
        "your predictions based on the original “use [kW]” column). Calculate the Root mean squared error\n",
        "of your model.\n",
        "\n"
      ],
      "metadata": {
        "id": "1y_AL9KOvQKl"
      }
    },
    {
      "cell_type": "code",
      "source": [
        "model = LinearRegression().fit(X_train, y_train)\n",
        "print(\"Jan - Nov Training/Test Score: \", model.score(X_train, y_train))\n",
        "\n",
        "december_predicted_use_kw = model.predict(december_df)\n",
        "print(\"Model Score on December: \",model.score(december_df, december_original_df['use [kW]']))\n",
        "# \n",
        "print(\"Root Mean Squared Error on December Evaluation: \", mean_squared_error(december_original_df['use [kW]'], december_predicted_use_kw, squared=False))\n",
        "\n",
        "\n",
        "# Exporting CSV Data Date, use [kW] \n",
        "data = {'date': december_original_df['date'].dt.strftime('%Y-%m-%d'),\n",
        "        'predicted use [kW]': december_predicted_use_kw,\n",
        "        # 'actual use [kW]': december_original_df['use [kW]'].to_numpy()\n",
        "        }\n",
        "csv_df = pd.DataFrame(data, columns= ['date', 'predicted use [kW]'])#'actual use [kW]'\n",
        "# print(csv_df)\n",
        "csv_df.to_csv(r'./cse351_hw2_kim_daekyung_110887867_linear_regression.csv',index = False)\n",
        "print(\"Exported CSV with 2 columns: date, predicted use [kW]\")\n"
      ],
      "metadata": {
        "colab": {
          "base_uri": "https://localhost:8080/",
          "height": 0
        },
        "id": "8mjEA3iTvO0V",
        "outputId": "769e7cc7-24b6-4f60-95a8-a5607d5c0b69"
      },
      "execution_count": 141,
      "outputs": [
        {
          "output_type": "stream",
          "name": "stdout",
          "text": [
            "Jan - Nov Training/Test Score:  0.2666596060081261\n",
            "Model Score on December:  -0.5972748944608137\n",
            "Root Mean Squared Error on December Evaluation:  8.968926005862448\n",
            "Exported CSV with 2 columns: date, predicted use [kW]\n"
          ]
        }
      ]
    },
    {
      "cell_type": "markdown",
      "source": [
        "# PART IV. Logistic Regression - Temperature classification\n",
        "- Divided up Jan-Nov / Dec\n",
        "- Ran Logistic Regression on temperature data (1: >=35, 0:< 35)\n",
        "- Score below in the output\n",
        "---\n",
        "- Jan - Nov Training/Test Score for temperature:  0.9700374531835206\n",
        "- Model Score on December Temperature:  0.6129032258064516\n",
        "- F1 Score of December Temperature Prediction:  0.6666666666666667"
      ],
      "metadata": {
        "id": "ms_WLPhiXV0o"
      }
    },
    {
      "cell_type": "code",
      "source": [
        "# temp >= 35 high, <35 is low\n",
        "\n",
        "# december_original_df.drop('temperature', axis=1)\n",
        "# clf = LogisticRegression(random_state=0).fit()\n",
        "THRESHOLD = 35\n",
        "\n",
        "temperature_df =merged_df.drop('icon',axis=1).drop('summary',axis=1).drop('date',axis=1)\n",
        "temperature_december_df = temperature_df[334:]\n",
        "temperature_df = temperature_df[:334]\n",
        "temperature_df['temperature'] = (temperature_df['temperature'] >= THRESHOLD).astype(int)\n",
        "\n",
        "\n",
        "temperature_only_df = temperature_df['temperature'][:334]\n",
        "temperature_df = temperature_df.drop('temperature',axis=1)[:334]\n",
        "X= temperature_df\n",
        "y =temperature_only_df\n",
        "# # Splitting the data into training and testing data\n",
        "X_train, X_test, y_train, y_test = train_test_split(X, y, test_size = 0.2, random_state=200)\n",
        "\n",
        "temperature_model = LogisticRegression().fit(X_train, y_train)\n",
        "print(\"Jan - Nov Training/Test Score for temperature: \", temperature_model.score(X_train, y_train))\n",
        "\n",
        "\n",
        "# December Temperature Data for Prediction\n",
        "december_temperature_df = merged_df.drop('icon',axis=1).drop('summary',axis=1)[334:]\n",
        "december_temperature_with_date_df = december_temperature_df\n",
        "december_temperature_df = december_temperature_with_date_df.drop('date',axis=1)\n",
        "december_temperature_original_df = (december_temperature_df['temperature']>= THRESHOLD).astype(int)\n",
        "december_temperature_df = december_temperature_df.drop('temperature',axis=1)\n",
        "\n",
        "december_predicted_temperature = temperature_model.predict(december_temperature_df)\n",
        "\n",
        "print(\"Model Score on December Temperature: \",temperature_model.score(december_temperature_df, december_temperature_original_df))\n",
        "print(\"F1 Score of December Temperature Prediction: \", f1_score(december_temperature_original_df, december_predicted_temperature, average='binary'))\n",
        "\n"
      ],
      "metadata": {
        "id": "7kM2UNLEXZhY",
        "colab": {
          "base_uri": "https://localhost:8080/",
          "height": 0
        },
        "outputId": "cdcde233-ebb2-43c0-df9a-a9643732988b"
      },
      "execution_count": 142,
      "outputs": [
        {
          "output_type": "stream",
          "name": "stdout",
          "text": [
            "Jan - Nov Training/Test Score for temperature:  0.9700374531835206\n",
            "Model Score on December Temperature:  0.6129032258064516\n",
            "F1 Score of December Temperature Prediction:  0.6666666666666667\n"
          ]
        },
        {
          "output_type": "stream",
          "name": "stderr",
          "text": [
            "/usr/local/lib/python3.7/dist-packages/sklearn/linear_model/_logistic.py:818: ConvergenceWarning: lbfgs failed to converge (status=1):\n",
            "STOP: TOTAL NO. of ITERATIONS REACHED LIMIT.\n",
            "\n",
            "Increase the number of iterations (max_iter) or scale the data as shown in:\n",
            "    https://scikit-learn.org/stable/modules/preprocessing.html\n",
            "Please also refer to the documentation for alternative solver options:\n",
            "    https://scikit-learn.org/stable/modules/linear_model.html#logistic-regression\n",
            "  extra_warning_msg=_LOGISTIC_SOLVER_CONVERGENCE_MSG,\n"
          ]
        }
      ]
    },
    {
      "cell_type": "code",
      "source": [
        "# CSV Export\n",
        "data = {'date': december_temperature_with_date_df['date'].dt.strftime('%Y-%m-%d'),\n",
        "        'predicted classification': december_predicted_temperature\n",
        "        #'actual classification': december_temperature_original_df\n",
        "        }\n",
        "csv_df = pd.DataFrame(data, columns= ['date', 'predicted classification'])#'actual temperature'\n",
        "# print(csv_df)\n",
        "csv_df.to_csv(r'./cse351_hw2_kim_daekyung_110887867_logistic_regression.csv',index = False)\n",
        "print(\"Exported CSV with 2 columns: date, predicted classification\")"
      ],
      "metadata": {
        "colab": {
          "base_uri": "https://localhost:8080/",
          "height": 0
        },
        "id": "hSY454MwURot",
        "outputId": "857397c1-e69d-48e8-c64a-0ff2dc7b364a"
      },
      "execution_count": 143,
      "outputs": [
        {
          "output_type": "stream",
          "name": "stdout",
          "text": [
            "Exported CSV with 2 columns: date, predicted classification\n"
          ]
        }
      ]
    },
    {
      "cell_type": "markdown",
      "source": [
        "# PART V: Energy Usage Data Analysis (Data Processing)"
      ],
      "metadata": {
        "id": "NS5dkC8p6LNR"
      }
    },
    {
      "cell_type": "code",
      "source": [
        "df_e = pd.read_csv(energy_data)\n",
        "\n",
        "# Add Missing Data \n",
        "df_e.loc[3219.5] = '2014-03-09 02:00:00', None ,None ,None ,None ,None ,None ,None ,None ,None ,None ,None ,None, None ,None ,None ,None, None\n",
        "df_e.loc[3219.6] = '2014-03-09 02:30:00', None ,None ,None ,None ,None ,None ,None ,None ,None ,None ,None ,None, None, None, None, None, None\n",
        "# Sort Index from 0\n",
        "df_e = df_e.sort_index().reset_index(drop=True)\n",
        "# Used Linear Interpolation to Fill Missing Data we set above (2014-03-09 02:00:00, 2014-03-09 02:30:00) \n",
        "df_e.interpolate(method = 'linear', inplace = True)\n",
        "print(\"Added Missing Data Value at 2014-03-09 02:00:00, 2014-03-09 02:30:00 using Linear Interpolation with values\")\n",
        "\n",
        "#Observed 2014-11-02 01:00:00, 01:30:00  DUPLICATE DATA!\n",
        "print(\"Observed Duplicate Data of Time/Date Label at 2014-11-02 01:00:00, 01:30:00\")\n",
        "df_e = df_e.drop_duplicates(subset=['Date & Time'])\n",
        "print(\"Handled Data Processing mentioned above.\")"
      ],
      "metadata": {
        "colab": {
          "base_uri": "https://localhost:8080/",
          "height": 0
        },
        "id": "6Matp-va6WZJ",
        "outputId": "90f2923a-7b07-4d3c-9ca7-1b6ec26b50e5"
      },
      "execution_count": 144,
      "outputs": [
        {
          "output_type": "stream",
          "name": "stdout",
          "text": [
            "Added Missing Data Value at 2014-03-09 02:00:00, 2014-03-09 02:30:00 using Linear Interpolation with values\n",
            "Observed Duplicate Data of Time/Date Label at 2014-11-02 01:00:00, 01:30:00\n",
            "Handled Data Processing mentioned above.\n"
          ]
        }
      ]
    },
    {
      "cell_type": "markdown",
      "source": [
        "# PART V. A: Is the washer being used only during the day?\n",
        "\n",
        "- Graph indicates that the washer is more used in the daytime than nighttime. (Peaking at 14:00-16:00). And we can see that there is little use midnight to the morning, and moderate usage compared to other times at evening."
      ],
      "metadata": {
        "id": "Y-OIyK7eUBA6"
      }
    },
    {
      "cell_type": "code",
      "source": [
        "\n",
        "df_e_washer = df_e[['Washer [kW]', 'Date & Time']]\n",
        "df_e_washer['Date & Time'] =  pd.to_datetime(df_e_washer['Date & Time']).dt.time\n",
        "df_e_washer.set_index('Date & Time').plot(figsize=(20, 10), title=\"Use of Washer In a Day\")"
      ],
      "metadata": {
        "colab": {
          "base_uri": "https://localhost:8080/",
          "height": 620
        },
        "id": "Rx6Ln9zts9Ay",
        "outputId": "e044c260-f423-4877-9b1a-9f4e9a57573d"
      },
      "execution_count": 145,
      "outputs": [
        {
          "output_type": "stream",
          "name": "stderr",
          "text": [
            "/usr/local/lib/python3.7/dist-packages/ipykernel_launcher.py:3: SettingWithCopyWarning: \n",
            "A value is trying to be set on a copy of a slice from a DataFrame.\n",
            "Try using .loc[row_indexer,col_indexer] = value instead\n",
            "\n",
            "See the caveats in the documentation: https://pandas.pydata.org/pandas-docs/stable/user_guide/indexing.html#returning-a-view-versus-a-copy\n",
            "  This is separate from the ipykernel package so we can avoid doing imports until\n"
          ]
        },
        {
          "output_type": "execute_result",
          "data": {
            "text/plain": [
              "<matplotlib.axes._subplots.AxesSubplot at 0x7f8f277fb050>"
            ]
          },
          "metadata": {},
          "execution_count": 145
        },
        {
          "output_type": "display_data",
          "data": {
            "text/plain": [
              "<Figure size 1440x720 with 1 Axes>"
            ],
            "image/png": "[encoded data removed]"
          },
          "metadata": {
            "needs_background": "light"
          }
        }
      ]
    },
    {
      "cell_type": "markdown",
      "source": [
        "# PART V. B: During which month is the AC used most?\n",
        "- Graph indicates below that the summmer season, (June - Oct), the AC was most used. We can observe no usage of AC in the winter season (Nov - Feb)."
      ],
      "metadata": {
        "id": "DTEoERs66Br8"
      }
    },
    {
      "cell_type": "code",
      "source": [
        "\n",
        "df_e_ac = df_e[['AC [kW]', 'Date & Time']]\n",
        "df_e_ac['Date & Time'] =  pd.to_datetime(df_e_ac['Date & Time']).dt.month\n",
        "df_e_ac.set_index('Date & Time').plot(figsize=(20, 10), title=\"Use of AC In a Year\")\n"
      ],
      "metadata": {
        "colab": {
          "base_uri": "https://localhost:8080/",
          "height": 620
        },
        "id": "IwjL_koK560h",
        "outputId": "07331011-76db-463a-a915-b5afcf86f9b3"
      },
      "execution_count": 146,
      "outputs": [
        {
          "output_type": "stream",
          "name": "stderr",
          "text": [
            "/usr/local/lib/python3.7/dist-packages/ipykernel_launcher.py:3: SettingWithCopyWarning: \n",
            "A value is trying to be set on a copy of a slice from a DataFrame.\n",
            "Try using .loc[row_indexer,col_indexer] = value instead\n",
            "\n",
            "See the caveats in the documentation: https://pandas.pydata.org/pandas-docs/stable/user_guide/indexing.html#returning-a-view-versus-a-copy\n",
            "  This is separate from the ipykernel package so we can avoid doing imports until\n"
          ]
        },
        {
          "output_type": "execute_result",
          "data": {
            "text/plain": [
              "<matplotlib.axes._subplots.AxesSubplot at 0x7f8f2d0ab650>"
            ]
          },
          "metadata": {},
          "execution_count": 146
        },
        {
          "output_type": "display_data",
          "data": {
            "text/plain": [
              "<Figure size 1440x720 with 1 Axes>"
            ],
            "image/png": "[encoded data removed]"
          },
          "metadata": {
            "needs_background": "light"
          }
        }
      ]
    },
    {
      "cell_type": "markdown",
      "source": [
        "# Part V. C: Use of Dining Room (R) [kW] In a Day\n",
        "- We can conclude that use of Dining Room in a day is high at lunch around (11:00 - 1:00) time & at dinner time around (17:00 - 19:00). This can be observed by comparing the visualized data to the other times in a day below. We can also observe no use of dining room at late midnight (1:00 AM) to early morning (4:00 AM)."
      ],
      "metadata": {
        "id": "iYCzLIk28jp1"
      }
    },
    {
      "cell_type": "code",
      "source": [
        "df_e_ac = df_e[['Dining room (R) [kW]', 'Date & Time']]\n",
        "df_e_ac['Date & Time'] =  pd.to_datetime(df_e_ac['Date & Time']).dt.time\n",
        "df_e_ac.set_index('Date & Time').plot(figsize=(20, 10), title=\"Use of Dining Room (R) [kW] In a Day\")\n"
      ],
      "metadata": {
        "colab": {
          "base_uri": "https://localhost:8080/",
          "height": 618
        },
        "id": "dfP0LXA58jEQ",
        "outputId": "b5fb6d4c-048e-4362-ab94-b50f33705898"
      },
      "execution_count": 147,
      "outputs": [
        {
          "output_type": "stream",
          "name": "stderr",
          "text": [
            "/usr/local/lib/python3.7/dist-packages/ipykernel_launcher.py:2: SettingWithCopyWarning: \n",
            "A value is trying to be set on a copy of a slice from a DataFrame.\n",
            "Try using .loc[row_indexer,col_indexer] = value instead\n",
            "\n",
            "See the caveats in the documentation: https://pandas.pydata.org/pandas-docs/stable/user_guide/indexing.html#returning-a-view-versus-a-copy\n",
            "  \n"
          ]
        },
        {
          "output_type": "execute_result",
          "data": {
            "text/plain": [
              "<matplotlib.axes._subplots.AxesSubplot at 0x7f8f2d10e390>"
            ]
          },
          "metadata": {},
          "execution_count": 147
        },
        {
          "output_type": "display_data",
          "data": {
            "text/plain": [
              "<Figure size 1440x720 with 1 Axes>"
            ],
            "image/png": "[encoded data removed]"
          },
          "metadata": {
            "needs_background": "light"
          }
        }
      ]
    },
    {
      "cell_type": "markdown",
      "source": [
        "# Part V. D: Use of Garage Outlets [kW] In a Day\n",
        "- We can conclude that Use of Garage Outlets in a day is high at times in the morning (8:00 - 9:00) and afternoon (16:00 - 18:00) when most people leave their houses and return from work. This can be observed compared to the other times in a day in the graph below."
      ],
      "metadata": {
        "id": "Ikx0Cv9Q-D_4"
      }
    },
    {
      "cell_type": "code",
      "source": [
        "df_e_go = df_e[['Garage outlets [kW]', 'Date & Time']]\n",
        "df_e_go['Date & Time'] =  pd.to_datetime(df_e_go['Date & Time']).dt.time\n",
        "df_e_go.set_index('Date & Time').plot(figsize=(20, 10), title=\"Use of Dining Room (R) [kW] In a Day\")\n"
      ],
      "metadata": {
        "colab": {
          "base_uri": "https://localhost:8080/",
          "height": 618
        },
        "id": "giVrAfQz-ET8",
        "outputId": "1df26711-9cd3-429c-8b5c-6c63f2a00867"
      },
      "execution_count": 148,
      "outputs": [
        {
          "output_type": "stream",
          "name": "stderr",
          "text": [
            "/usr/local/lib/python3.7/dist-packages/ipykernel_launcher.py:2: SettingWithCopyWarning: \n",
            "A value is trying to be set on a copy of a slice from a DataFrame.\n",
            "Try using .loc[row_indexer,col_indexer] = value instead\n",
            "\n",
            "See the caveats in the documentation: https://pandas.pydata.org/pandas-docs/stable/user_guide/indexing.html#returning-a-view-versus-a-copy\n",
            "  \n"
          ]
        },
        {
          "output_type": "execute_result",
          "data": {
            "text/plain": [
              "<matplotlib.axes._subplots.AxesSubplot at 0x7f8f38730a10>"
            ]
          },
          "metadata": {},
          "execution_count": 148
        },
        {
          "output_type": "display_data",
          "data": {
            "text/plain": [
              "<Figure size 1440x720 with 1 Axes>"
            ],
            "image/png": "[encoded data removed]"
          },
          "metadata": {
            "needs_background": "light"
          }
        }
      ]
    },
    {
      "cell_type": "markdown",
      "source": [
        ""
      ],
      "metadata": {
        "id": "50xzZ5Xe-Dos"
      }
    }
  ]
}